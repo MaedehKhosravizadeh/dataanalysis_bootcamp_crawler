{
 "cells": [
  {
   "cell_type": "code",
   "execution_count": 1,
   "metadata": {},
   "outputs": [],
   "source": [
    "import requests\n",
    "from bs4 import BeautifulSoup\n",
    "import numpy as np\n",
    "import logging\n",
    "import json\n",
    "from random import randint\n",
    "from time import sleep\n",
    "import re"
   ]
  },
  {
   "cell_type": "code",
   "execution_count": 2,
   "metadata": {},
   "outputs": [],
   "source": [
    "\n",
    "def find_last(s):\n",
    "    char = '/'\n",
    "    last_pos = len(s) - s[::-1].index(char)\n",
    "    print(last_pos)\n",
    "    return(s[last_pos:])\n",
    "\n",
    "def find_tude(url):\n",
    "    cafe_ref = requests.get(url)\n",
    "    soup = BeautifulSoup(cafe_ref.content, 'html.parser')\n",
    "    cafe_img = soup.find('div', attrs = {\"class\" : 'map-container'})\n",
    "    cafe_map = cafe_img.find('a')[\"href\"]\n",
    "    cafe_address = find_last(cafe_map)\n",
    "    cafe_kh = soup.find('div', attrs = {\"class\" : 'venue-name-box'})\n",
    "    cafe_name = cafe_kh('h1')[0].text\n",
    "    return [cafe_address, cafe_name]\n",
    "\n"
   ]
  },
  {
   "cell_type": "code",
   "execution_count": 9,
   "metadata": {},
   "outputs": [],
   "source": [
    "\n",
    "results = []\n",
    "# get response of fidibo web page\n",
    "URL = 'https://fidilio.com/restaurants/in/tehran/%D8%AA%D9%87%D8%B1%D8%A7%D9%86/'\n",
    "results = []\n",
    "r = requests.get(URL)\n",
    "soup = BeautifulSoup(r.content, 'html.parser')\n",
    "reses = soup.find_all('div', attrs = {\"class\" : 'card my-2 h-100 shadow-lg full-rounded'})\n",
    "\n",
    "for res in reses:\n",
    "    result = {}\n",
    "    result[\"href\"] = \"https://fidilio.com\" + (res.find('a')['href'])\n",
    "    #print(res.find('span').text)\n",
    "    result[\"name\"] = (res.find('h5').text)\n",
    "    result[\"address\"] = res.find('p').text\n",
    "    results.append(result)\n"
   ]
  },
  {
   "cell_type": "code",
   "execution_count": null,
   "metadata": {},
   "outputs": [],
   "source": []
  }
 ],
 "metadata": {
  "kernelspec": {
   "display_name": "Python 3 (ipykernel)",
   "language": "python",
   "name": "python3"
  },
  "language_info": {
   "codemirror_mode": {
    "name": "ipython",
    "version": 3
   },
   "file_extension": ".py",
   "mimetype": "text/x-python",
   "name": "python",
   "nbconvert_exporter": "python",
   "pygments_lexer": "ipython3",
   "version": "3.9.0"
  }
 },
 "nbformat": 4,
 "nbformat_minor": 2
}
